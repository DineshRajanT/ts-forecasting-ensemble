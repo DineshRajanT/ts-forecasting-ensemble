{
 "cells": [
  {
   "cell_type": "code",
   "execution_count": 4,
   "metadata": {},
   "outputs": [],
   "source": [
    "%matplotlib inline\n",
    "\n",
    "import warnings\n",
    "warnings.filterwarnings(\"ignore\")\n",
    "\n",
    "import numpy as np\n",
    "import pandas as pd\n",
    "from pandas import Series, DataFrame\n",
    "from pandas_datareader.data import DataReader\n",
    "\n",
    "import matplotlib.pylab as plt\n",
    "import seaborn as sns\n",
    "sns.set_style('whitegrid')\n",
    "sns.set_context('notebook', font_scale=1.2)\n",
    "\n",
    "import statsmodels.api as sm\n",
    "import statsmodels.formula.api as smf\n",
    "import statsmodels.tsa.api as smt\n",
    "from statsmodels.tsa.holtwinters import SimpleExpSmoothing, ExponentialSmoothing, Holt\n",
    "from statsmodels.graphics.tsaplots import plot_acf, plot_pacf\n",
    "from statsmodels.tsa.arima_model import ARIMA\n",
    "\n",
    "import ipywidgets as wgts\n",
    "from ipywidgets import interactive, IntSlider, ToggleButtons, FloatSlider\n",
    "\n",
    "from sklearn.metrics import mean_squared_error"
   ]
  },
  {
   "cell_type": "code",
   "execution_count": 5,
   "metadata": {},
   "outputs": [],
   "source": [
    "def mean_absolute_percentage_error(y_true, y_pred): \n",
    "    return np.mean(np.abs((y_true - y_pred) / y_true)) * 100"
   ]
  },
  {
   "cell_type": "code",
   "execution_count": 6,
   "metadata": {},
   "outputs": [],
   "source": [
    "def plot_forecasts(y_train, y_test, y_pred, m):\n",
    "    \"\"\"\n",
    "    \"\"\"\n",
    "    fig, ax = plt.subplots(figsize=(15, 5)) \n",
    "    y_train.plot(ax=ax, label='train')\n",
    "    y_test.plot(ax=ax, label='actual')\n",
    "    y_pred.plot(ax=ax, label='predicted')\n",
    "    m.fittedvalues.plot(ax=ax, alpha=0.5, label='fitted', style='--')\n",
    "    plt.legend(loc='best')\n",
    "    \n",
    "    print(f\"\"\"\\n\\nMetrics -> \n",
    "    BIC = {m.bic}, \n",
    "    AIC = {m.aic}, \n",
    "    RMSE = {np.sqrt(mean_squared_error(y_test, y_pred)).round(2)},\n",
    "    MAPE = {mean_absolute_percentage_error(y_test, y_pred).round(2)}\n",
    "    \\n\"\"\")\n",
    "    ;\n",
    "\n",
    "def plot_residuals(y_test, y_pred):\n",
    "    \"\"\"\n",
    "    \"\"\"\n",
    "    delta = y_test - y_pred\n",
    "    fig, axs = plt.subplots(ncols=2, nrows=1, figsize=(15, 4)) \n",
    "    delta.plot(ax=axs[0], title='Residuals', style='k--', alpha=0.6)\n",
    "    delta.plot.hist(ax=axs[1], bins=20, title='Distribution', color='k', alpha=0.5);"
   ]
  },
  {
   "cell_type": "code",
   "execution_count": 85,
   "metadata": {},
   "outputs": [],
   "source": [
    "def format_plot(ax):\n",
    "    \"\"\"\n",
    "    \"\"\"\n",
    "    font_title = {\n",
    "        'size': 20, \n",
    "        'weight': 600, \n",
    "        'name': 'monospace'\n",
    "    }\n",
    "\n",
    "    font_axes = {\n",
    "        'size': 14, \n",
    "        'weight': 'bold', \n",
    "        'name': 'monospace'\n",
    "    }\n",
    "\n",
    "    ax.grid(True, linestyle=\":\", alpha=0.6)\n",
    "    sns.despine(ax=ax, left=True)\n",
    "    \n",
    "    if ax.get_legend():\n",
    "        ax.legend(bbox_to_anchor=(1.1, 1))\n",
    "    \n",
    "    ax.set_title(f\"\\n{ax.get_title()}\\n\", fontdict=font_title)\n",
    "    ax.set_xlabel(f\"\\n{ax.get_xlabel()} ➞\", fontdict=font_axes)\n",
    "    ax.set_ylabel(f\"{ax.get_ylabel()} ➞\\n\", fontdict=font_axes)"
   ]
  },
  {
   "cell_type": "markdown",
   "metadata": {},
   "source": [
    "## Simulator 1: Creates ARIMA Series given AR, MA coeffs"
   ]
  },
  {
   "cell_type": "code",
   "execution_count": 387,
   "metadata": {},
   "outputs": [],
   "source": [
    "def simulate_ARIMA_from_coeffs(AR: np.array, I_: int, MA: np.array, n_samples: int) -> np.array:\n",
    "    \"\"\"\n",
    "    \"\"\"\n",
    "    ar_ = np.r_[1, -np.array(AR)]\n",
    "    ma_ = np.r_[1, np.array(MA)]\n",
    "\n",
    "    y = sm.tsa.arma_generate_sample(ar=ar_,\n",
    "                                    ma=ma_,\n",
    "                                    nsample=n_samples,\n",
    "                                    distrvs=np.random.RandomState(42).randn)\n",
    "\n",
    "    if I_ > 0:\n",
    "        for i in range(I_):\n",
    "            y = y.cumsum()\n",
    "    \n",
    "    return y"
   ]
  },
  {
   "cell_type": "code",
   "execution_count": 396,
   "metadata": {},
   "outputs": [
    {
     "data": {
      "application/vnd.jupyter.widget-view+json": {
       "model_id": "8b94e6fc2a5f4c8397fde0ad59103d9e",
       "version_major": 2,
       "version_minor": 0
      },
      "text/plain": [
       "interactive(children=(SelectMultiple(description='AR Coeffs', index=(1,), options=(0.0, 0.1, 0.2, 0.3, 0.4, 0.…"
      ]
     },
     "metadata": {},
     "output_type": "display_data"
    }
   ],
   "source": [
    "def f(AR, I_, MA):\n",
    "    \"\"\"\n",
    "    \"\"\"\n",
    "    y = simulate_ARIMA_from_coeffs(AR=AR if AR[0] > 0 else [], \n",
    "                                   I_=I_, \n",
    "                                   MA=MA if MA[0] > 0 else [], \n",
    "                                   n_samples=120)\n",
    "    \n",
    "    s_ = pd.Series(data=y, index=pd.date_range(start='1990-01-01', \n",
    "                                                freq='MS', \n",
    "                                                periods=len(y)))\n",
    "    \n",
    "    title_=f\"\"\"\n",
    "    ARIMA({len(AR) if AR[0] > 0 else 0}, {I_}, {len(MA) if MA[0] > 0 else 0}),\n",
    "    AR Parameters: {[round(i, 3) for i in AR if AR[0] is not None]}\n",
    "    Differenced: {I_}\n",
    "    MA Parameters: {[round(i, 3) for i in MA if MA[0] is not None]}\n",
    "    \"\"\"\n",
    "       \n",
    "    ax = s_.plot(figsize=(15, 7), title=title_)    \n",
    "    format_plot(ax)\n",
    "    ax.set_ylabel('y')\n",
    "    ax.set_xlabel('time')\n",
    "    return None\n",
    "    \n",
    "interactive(f, \n",
    "            AR = wgts.SelectMultiple(options=np.arange(0, 1, 0.1).round(2).tolist(), \n",
    "                                     index=[1],\n",
    "                                     description='AR Coeffs'),\n",
    "            I_ = IntSlider(min=0, max=2, step=1, description='Difference Degree'),\n",
    "            MA = wgts.SelectMultiple(options=np.arange(0, 1, 0.1).round(2).tolist(), \n",
    "                                     index=[1],\n",
    "                                     description='MA Coeffs'))    "
   ]
  },
  {
   "cell_type": "markdown",
   "metadata": {},
   "source": [
    "## Simulator 1: Creates random ARIMA Series given p, d, q"
   ]
  },
  {
   "cell_type": "code",
   "execution_count": 418,
   "metadata": {},
   "outputs": [],
   "source": [
    "def simulate_ARIMA_from_pqd(p, d, q):\n",
    "    \"\"\"\n",
    "    \"\"\"\n",
    "    AR_ = [] if p == 0 else Series(np.random.random(p).round(2)).sort_values().values\n",
    "    MA_ = [] if q == 0 else Series(np.random.random(q).round(2)).sort_values().values\n",
    "    \n",
    "    y = simulate_ARIMA_from_coeffs(AR=AR_, \n",
    "                                   I_=d, \n",
    "                                   MA=MA_, \n",
    "                                   n_samples=250)\n",
    "    if d > 0:\n",
    "        for i in range(d):\n",
    "            y = y.cumsum()\n",
    "    \n",
    "    str_ar = f\"AR=[{','.join(AR_.astype(str))}]\" if p > 0 else ''\n",
    "    str_ma = f\"MA=[{','.join(MA_.astype(str))}]\" if q > 0 else ''\n",
    "    name_ = '_'.join([str_ar, str_ma])\n",
    "    \n",
    "    return Series(y, name=name_, index=pd.date_range(start='1990-01-01', \n",
    "                                                     freq='MS', \n",
    "                                                     periods=len(y)))"
   ]
  },
  {
   "cell_type": "code",
   "execution_count": 420,
   "metadata": {},
   "outputs": [
    {
     "data": {
      "application/vnd.jupyter.widget-view+json": {
       "model_id": "14afd46bb498496eafd862227a4a0832",
       "version_major": 2,
       "version_minor": 0
      },
      "text/plain": [
       "interactive(children=(SelectMultiple(description='ARIMA order', index=(10,), options=('0,0,0', '0,0,1', '0,0,2…"
      ]
     },
     "metadata": {},
     "output_type": "display_data"
    }
   ],
   "source": [
    "def f(pdq):\n",
    "    \"\"\"\n",
    "    \"\"\"\n",
    "    p, d, q = [int(i) for i in pdq[0].split(\",\")]\n",
    "    df_ = pd.concat([simulate_ARIMA_from_pqd(p, d, q) for i in range(10)], axis=1).round(2)\n",
    "    ax_ = df_.plot(figsize=(15, 7), \n",
    "                   alpha=0.5, \n",
    "                   title=f\"ARIMA({pdq[0]})\")\n",
    "    format_plot(ax_)\n",
    "    \n",
    "interactive(\n",
    "    f,\n",
    "    pdq=wgts.SelectMultiple(options=[f\"{ar},{i},{ma}\" for ar in range(2) for i in range(3) for ma in range(3)], \n",
    "                          value=['1,0,1'], \n",
    "                          description='ARIMA order')\n",
    ")\n"
   ]
  }
 ],
 "metadata": {
  "kernelspec": {
   "display_name": "ts-env",
   "language": "python",
   "name": "python3"
  },
  "language_info": {
   "codemirror_mode": {
    "name": "ipython",
    "version": 3
   },
   "file_extension": ".py",
   "mimetype": "text/x-python",
   "name": "python",
   "nbconvert_exporter": "python",
   "pygments_lexer": "ipython3",
   "version": "3.6.6"
  }
 },
 "nbformat": 4,
 "nbformat_minor": 2
}
