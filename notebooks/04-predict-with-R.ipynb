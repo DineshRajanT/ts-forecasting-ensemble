{
 "cells": [
  {
   "cell_type": "code",
   "execution_count": 1,
   "metadata": {},
   "outputs": [
    {
     "name": "stderr",
     "output_type": "stream",
     "text": [
      "/miniconda/envs/ts-env/lib/python3.6/site-packages/statsmodels/compat/pandas.py:56: FutureWarning: The pandas.core.datetools module is deprecated and will be removed in a future version. Please use the pandas.tseries module instead.\n",
      "  from pandas.core import datetools\n"
     ]
    },
    {
     "name": "stdout",
     "output_type": "stream",
     "text": [
      "Populating the interactive namespace from numpy and matplotlib\n"
     ]
    }
   ],
   "source": [
    "import numpy as np\n",
    "import pandas as pd\n",
    "import os, time\n",
    "import itertools\n",
    "from time import time\n",
    "\n",
    "from pandas import read_csv, Series, DataFrame, concat\n",
    "from pandas.tools.plotting import autocorrelation_plot\n",
    "\n",
    "from statsmodels.tsa.seasonal import seasonal_decompose\n",
    "from statsmodels.tsa.stattools import adfuller, acf, pacf\n",
    "from statsmodels.graphics.tsaplots import plot_acf, plot_pacf\n",
    "from statsmodels.tsa.arima_model import ARIMA, ARMA, AR\n",
    "from statsmodels.tsa.statespace.sarimax import SARIMAX\n",
    "\n",
    "from sklearn.metrics import mean_squared_error\n",
    "\n",
    "import seaborn as sns\n",
    "import matplotlib.pyplot as plt\n",
    "%pylab inline\n",
    "\n",
    "from matplotlib.pylab import rcParams\n",
    "rcParams['font.family'] = 'Ubuntu'\n",
    "rcParams['lines.linewidth'] = 2.5\n",
    "rcParams['figure.figsize'] = 14, 4"
   ]
  },
  {
   "cell_type": "markdown",
   "metadata": {},
   "source": [
    "## Functions"
   ]
  },
  {
   "cell_type": "code",
   "execution_count": 2,
   "metadata": {},
   "outputs": [],
   "source": [
    "## Exponential Time Smoothing\n",
    "\n",
    "def run_in_R__ets(y=Series(), fh=int()):\n",
    "    \"\"\"\n",
    "    Run ets in R on a pandas series\n",
    "    \"\"\"\n",
    "    import rpy2.robjects as robjects\n",
    "    from rpy2.robjects.packages import importr\n",
    "\n",
    "    from rpy2.robjects import pandas2ri\n",
    "    pandas2ri.activate()\n",
    "    c=robjects.r('c')\n",
    "    \n",
    "    # convert ts to r object\n",
    "    y_tr = y.iloc[:-fh]\n",
    "    x = c(y_tr.values)\n",
    "    \n",
    "    # define the r function\n",
    "    str_ets = \"\"\"\n",
    "    function(x){}\n",
    "    library(forecast)\n",
    "    y <- ts(x, frequency=7)\n",
    "    fit_ets <- ets(y, model=\"ZZZ\")\n",
    "    yhat <- forecast(fit_ets, h={}, level=c(95))\n",
    "    out_df <- data.frame(yhat$mean, yhat$lower, yhat$upper)\n",
    "    out_df\n",
    "    {}\n",
    "    \"\"\".format(\"{\", fh, \"}\")\n",
    "\n",
    "    r_run = robjects.r(str_ets)\n",
    "    result = r_run(x)\n",
    "    \n",
    "    df_predicted = pandas2ri.ri2py_dataframe(result).round(2)\n",
    "    df_predicted.index = pd.date_range(start=y_tr.index[-1], periods=fh)\n",
    "    df_predicted.columns = ['yhat', 'yhat_lower', 'yhat_upper']    \n",
    "    df_predicted['y'] = y.iloc[-fh:]\n",
    "    return df_predicted.dropna()\n",
    "\n",
    "# df_predicted = run_in_R__ets(y=y, fh=20)\n",
    "\n",
    "## TBATS\n",
    "\n",
    "def run_in_R__tbats(y=Series(), fh=int()):\n",
    "    \"\"\"\n",
    "    Run tbats in R on a pandas series\n",
    "    \"\"\"\n",
    "    import rpy2.robjects as robjects\n",
    "    from rpy2.robjects.packages import importr\n",
    "\n",
    "    from rpy2.robjects import pandas2ri\n",
    "    pandas2ri.activate()\n",
    "    c=robjects.r('c')\n",
    "    \n",
    "    # convert ts to r object\n",
    "    y_tr = y.iloc[:-fh]\n",
    "    x = c(y_tr.values)\n",
    "    \n",
    "    # define the r function\n",
    "    str_ets = \"\"\"\n",
    "    function(x){}\n",
    "    library(forecast)\n",
    "    y <- ts(x, frequency=7)\n",
    "    y_tbats <- msts(y, seasonal.periods=7)\n",
    "    fit_tbats <- tbats(y_tbats)\n",
    "    yhat <- forecast(fit_tbats, h={}, level=c(95))\n",
    "    out_df <- data.frame(yhat$mean, yhat$lower, yhat$upper)\n",
    "    out_df\n",
    "    {}\n",
    "    \"\"\".format(\"{\", fh, \"}\")\n",
    "\n",
    "    r_run = robjects.r(str_ets)\n",
    "    result = r_run(x)\n",
    "    \n",
    "    df_predicted = pandas2ri.ri2py_dataframe(result).round(2)\n",
    "    df_predicted.index = pd.date_range(start=y_tr.index[-1], periods=fh)\n",
    "    df_predicted.columns = ['yhat', 'yhat_lower', 'yhat_upper']\n",
    "    \n",
    "    df_predicted['y'] = y.iloc[-fh:]\n",
    "    return df_predicted.dropna()\n",
    "\n",
    "# df_predicted__tbats = run_in_R__tbats(y=y, fh=30)\n",
    "\n",
    "## auto.arima\n",
    "def run_in_R__autoARIMA(y=Series(), fh=int()):\n",
    "    \"\"\"\n",
    "    Run auto.arima in R on a pandas series\n",
    "    \"\"\"\n",
    "    import rpy2.robjects as robjects\n",
    "    from rpy2.robjects.packages import importr\n",
    "\n",
    "    from rpy2.robjects import pandas2ri\n",
    "    pandas2ri.activate()\n",
    "    c=robjects.r('c')\n",
    "    \n",
    "    # convert ts to r object\n",
    "    y_tr = y.iloc[:-fh]\n",
    "    x = c(y_tr.values)\n",
    "    \n",
    "    # define the r function\n",
    "    str_ets = \"\"\"\n",
    "    function(x){}\n",
    "    library(forecast)\n",
    "    y <- ts(x, frequency=7)\n",
    "    fit_auto_arima <- auto.arima(y, seasonal=TRUE)\n",
    "    yhat <- forecast(fit_auto_arima, h={}, level=c(95))\n",
    "    out_df <- data.frame(yhat$mean, yhat$lower, yhat$upper)\n",
    "    out_df\n",
    "    {}\n",
    "    \"\"\".format(\"{\", fh, \"}\")\n",
    "\n",
    "    r_run = robjects.r(str_ets)\n",
    "    result = r_run(x)\n",
    "    \n",
    "    df_predicted = pandas2ri.ri2py_dataframe(result).round(2)\n",
    "    df_predicted.index = pd.date_range(start=y_tr.index[-1], periods=fh)\n",
    "    df_predicted.columns = ['yhat', 'yhat_lower', 'yhat_upper']\n",
    "    \n",
    "    df_predicted['y'] = y.iloc[-fh:]\n",
    "    return df_predicted.dropna()"
   ]
  },
  {
   "cell_type": "code",
   "execution_count": 3,
   "metadata": {},
   "outputs": [],
   "source": [
    "def get_perf_metrics(df_predicted):\n",
    "    \"\"\"\n",
    "    \"\"\"\n",
    "    y = df_predicted['y'].copy()\n",
    "    yhat = df_predicted['yhat'].copy()\n",
    "    \n",
    "    mse = np.mean((y - yhat)**2)\n",
    "    perc_err = (100*(y - yhat))/y\n",
    "    \n",
    "    return {'RMSE': np.sqrt(mse), \n",
    "            'MAPE': np.mean(abs(perc_err))}"
   ]
  },
  {
   "cell_type": "code",
   "execution_count": 4,
   "metadata": {},
   "outputs": [],
   "source": [
    "def visualize_forecasts(y=Series(), df=DataFrame(), fh=int()):\n",
    "    \"\"\"\n",
    "    \"\"\"\n",
    "    fig, ax = plt.subplots(figsize=(15, 5))\n",
    "    \n",
    "    y.to_frame(name='y').iloc[-fh * 3:, :].plot(ax=ax)\n",
    "    ax_1 = df.drop('y', axis=1).plot(ax=ax, color=('r', 'k', 'k'), alpha=0.3)\n",
    "    ax_1.fill_between(df.index, df['yhat_upper'], df['yhat_lower'], color='k', alpha=.2)"
   ]
  },
  {
   "cell_type": "markdown",
   "metadata": {},
   "source": [
    "---\n",
    "## Explore the time-series for trend, seasonality, outliers"
   ]
  },
  {
   "cell_type": "code",
   "execution_count": 6,
   "metadata": {},
   "outputs": [
    {
     "name": "stderr",
     "output_type": "stream",
     "text": [
      "/miniconda/envs/ts-env/lib/python3.6/site-packages/matplotlib/font_manager.py:1297: UserWarning: findfont: Font family ['Ubuntu'] not found. Falling back to DejaVu Sans\n",
      "  (prop.get_family(), self.defaultFamily[fontext]))\n"
     ]
    },
    {
     "data": {
      "image/png": "[encoded data removed]",
      "text/plain": [
       "<matplotlib.figure.Figure at 0x7f80b39faa90>"
      ]
     },
     "metadata": {},
     "output_type": "display_data"
    }
   ],
   "source": [
    "df_sales = pd.read_csv(\"../data/ts-data-few-missings.csv\", parse_dates=['date']).set_index('date').loc['2015-07':]\n",
    "df_holidays = pd.read_csv(\"../data/ts-holidays.csv\", parse_dates=['date'])\n",
    "\n",
    "ITEM = Series(df_sales.columns.tolist()).sample(1).iloc[0]\n",
    "y = df_sales[ITEM].copy()\n",
    "\n",
    "# clean\n",
    "y.fillna(method='bfill', inplace=True)\n",
    "y = y.clip_upper(y.quantile(0.99)).clip_lower(y.quantile(0.01))\n",
    "y.dropna(inplace=True)\n",
    "\n",
    "# visualize\n",
    "y.plot(title=ITEM, ylim=(-1, y.max() + 5));"
   ]
  },
  {
   "cell_type": "code",
   "execution_count": 7,
   "metadata": {},
   "outputs": [
    {
     "ename": "ImportError",
     "evalue": "libicuuc.so.58: cannot open shared object file: No such file or directory",
     "output_type": "error",
     "traceback": [
      "\u001b[0;31m---------------------------------------------------------------------------\u001b[0m",
      "\u001b[0;31mImportError\u001b[0m                               Traceback (most recent call last)",
      "\u001b[0;32m<ipython-input-7-e0519691f786>\u001b[0m in \u001b[0;36m<module>\u001b[0;34m()\u001b[0m\n\u001b[0;32m----> 1\u001b[0;31m \u001b[0mdf_predicted_ets\u001b[0m \u001b[0;34m=\u001b[0m \u001b[0mrun_in_R__ets\u001b[0m\u001b[0;34m(\u001b[0m\u001b[0my\u001b[0m\u001b[0;34m=\u001b[0m\u001b[0my\u001b[0m\u001b[0;34m.\u001b[0m\u001b[0mcopy\u001b[0m\u001b[0;34m(\u001b[0m\u001b[0;34m)\u001b[0m\u001b[0;34m,\u001b[0m \u001b[0mfh\u001b[0m\u001b[0;34m=\u001b[0m\u001b[0;36m30\u001b[0m\u001b[0;34m)\u001b[0m\u001b[0;34m\u001b[0m\u001b[0m\n\u001b[0m",
      "\u001b[0;32m<ipython-input-2-a66620b96438>\u001b[0m in \u001b[0;36mrun_in_R__ets\u001b[0;34m(y, fh)\u001b[0m\n\u001b[1;32m      5\u001b[0m     \u001b[0mRun\u001b[0m \u001b[0mets\u001b[0m \u001b[0;32min\u001b[0m \u001b[0mR\u001b[0m \u001b[0mon\u001b[0m \u001b[0ma\u001b[0m \u001b[0mpandas\u001b[0m \u001b[0mseries\u001b[0m\u001b[0;34m\u001b[0m\u001b[0m\n\u001b[1;32m      6\u001b[0m     \"\"\"\n\u001b[0;32m----> 7\u001b[0;31m     \u001b[0;32mimport\u001b[0m \u001b[0mrpy2\u001b[0m\u001b[0;34m.\u001b[0m\u001b[0mrobjects\u001b[0m \u001b[0;32mas\u001b[0m \u001b[0mrobjects\u001b[0m\u001b[0;34m\u001b[0m\u001b[0m\n\u001b[0m\u001b[1;32m      8\u001b[0m     \u001b[0;32mfrom\u001b[0m \u001b[0mrpy2\u001b[0m\u001b[0;34m.\u001b[0m\u001b[0mrobjects\u001b[0m\u001b[0;34m.\u001b[0m\u001b[0mpackages\u001b[0m \u001b[0;32mimport\u001b[0m \u001b[0mimportr\u001b[0m\u001b[0;34m\u001b[0m\u001b[0m\n\u001b[1;32m      9\u001b[0m \u001b[0;34m\u001b[0m\u001b[0m\n",
      "\u001b[0;32m/miniconda/envs/ts-env/lib/python3.6/site-packages/rpy2/robjects/__init__.py\u001b[0m in \u001b[0;36m<module>\u001b[0;34m()\u001b[0m\n\u001b[1;32m     14\u001b[0m \u001b[0;32mimport\u001b[0m \u001b[0mitertools\u001b[0m\u001b[0;34m\u001b[0m\u001b[0m\n\u001b[1;32m     15\u001b[0m \u001b[0;32mfrom\u001b[0m \u001b[0mdatetime\u001b[0m \u001b[0;32mimport\u001b[0m \u001b[0mdatetime\u001b[0m\u001b[0;34m\u001b[0m\u001b[0m\n\u001b[0;32m---> 16\u001b[0;31m \u001b[0;32mimport\u001b[0m \u001b[0mrpy2\u001b[0m\u001b[0;34m.\u001b[0m\u001b[0mrinterface\u001b[0m \u001b[0;32mas\u001b[0m \u001b[0mrinterface\u001b[0m\u001b[0;34m\u001b[0m\u001b[0m\n\u001b[0m\u001b[1;32m     17\u001b[0m \u001b[0;32mimport\u001b[0m \u001b[0mrpy2\u001b[0m\u001b[0;34m.\u001b[0m\u001b[0mrlike\u001b[0m\u001b[0;34m.\u001b[0m\u001b[0mcontainer\u001b[0m \u001b[0;32mas\u001b[0m \u001b[0mrlc\u001b[0m\u001b[0;34m\u001b[0m\u001b[0m\n\u001b[1;32m     18\u001b[0m \u001b[0;34m\u001b[0m\u001b[0m\n",
      "\u001b[0;32m/miniconda/envs/ts-env/lib/python3.6/site-packages/rpy2/rinterface/__init__.py\u001b[0m in \u001b[0;36m<module>\u001b[0;34m()\u001b[0m\n\u001b[1;32m     90\u001b[0m \u001b[0;32mdel\u001b[0m\u001b[0;34m(\u001b[0m\u001b[0mos\u001b[0m\u001b[0;34m)\u001b[0m\u001b[0;34m\u001b[0m\u001b[0m\n\u001b[1;32m     91\u001b[0m \u001b[0;34m\u001b[0m\u001b[0m\n\u001b[0;32m---> 92\u001b[0;31m from rpy2.rinterface._rinterface import (baseenv,\n\u001b[0m\u001b[1;32m     93\u001b[0m                                          \u001b[0memptyenv\u001b[0m\u001b[0;34m,\u001b[0m\u001b[0;34m\u001b[0m\u001b[0m\n\u001b[1;32m     94\u001b[0m                                          \u001b[0mendr\u001b[0m\u001b[0;34m,\u001b[0m\u001b[0;34m\u001b[0m\u001b[0m\n",
      "\u001b[0;31mImportError\u001b[0m: libicuuc.so.58: cannot open shared object file: No such file or directory"
     ]
    }
   ],
   "source": [
    "df_predicted_ets = run_in_R__ets(y=y.copy(), fh=30)"
   ]
  },
  {
   "cell_type": "code",
   "execution_count": 14,
   "metadata": {},
   "outputs": [
    {
     "name": "stdout",
     "output_type": "stream",
     "text": [
      "Collecting rpy2\n",
      "  Downloading rpy2-2.9.2.tar.gz (194kB)\n",
      "\u001b[K    100% |████████████████████████████████| 194kB 1.5MB/s ta 0:00:01\n",
      "\u001b[?25hRequirement already satisfied: six in /miniconda/envs/ts-env/lib/python3.6/site-packages (from rpy2)\n",
      "Requirement already satisfied: jinja2 in /miniconda/envs/ts-env/lib/python3.6/site-packages (from rpy2)\n",
      "Requirement already satisfied: MarkupSafe>=0.23 in /miniconda/envs/ts-env/lib/python3.6/site-packages (from jinja2->rpy2)\n",
      "Building wheels for collected packages: rpy2\n",
      "  Running setup.py bdist_wheel for rpy2 ... \u001b[?25lerror\n",
      "  Complete output from command /miniconda/envs/ts-env/bin/python -u -c \"import setuptools, tokenize;__file__='/tmp/pip-build-rqzsuqvp/rpy2/setup.py';f=getattr(tokenize, 'open', open)(__file__);code=f.read().replace('\\r\\n', '\\n');f.close();exec(compile(code, __file__, 'exec'))\" bdist_wheel -d /tmp/tmptz1mvzmlpip-wheel- --python-tag cp36:\n",
      "  R version 3.3.2 (2016-10-31) -- \"Sincere Pumpkin Patch\"\n",
      "  /miniconda/envs/ts-env/lib/R/bin/R CMD config --ldflags\n",
      "  /miniconda/envs/ts-env/lib/R/bin/R CMD config --cppflags\n",
      "  \n",
      "      Compilation parameters for rpy2's C components:\n",
      "          include_dirs    = ['/miniconda/envs/ts-env/lib/R/include']\n",
      "          library_dirs    = ['/miniconda/envs/ts-env/lib/R/lib']\n",
      "          libraries       = ['R', 'pcre', 'lzma', 'bz2', 'z', 'rt', 'dl', 'm', 'iconv', 'icuuc', 'icui18n']\n",
      "          extra_link_args = ['-Wl,--export-dynamic', '-fopenmp']\n",
      "  \n",
      "  running bdist_wheel\n",
      "  running build\n",
      "  running build_py\n",
      "  creating build\n",
      "  creating build/lib.linux-x86_64-3.6\n",
      "  creating build/lib.linux-x86_64-3.6/rpy2\n",
      "  copying ./rpy/__init__.py -> build/lib.linux-x86_64-3.6/rpy2\n",
      "  copying ./rpy/rpy_classic.py -> build/lib.linux-x86_64-3.6/rpy2\n",
      "  copying ./rpy/tests.py -> build/lib.linux-x86_64-3.6/rpy2\n",
      "  copying ./rpy/tests_rpy_classic.py -> build/lib.linux-x86_64-3.6/rpy2\n",
      "  copying ./rpy/situation.py -> build/lib.linux-x86_64-3.6/rpy2\n",
      "  creating build/lib.linux-x86_64-3.6/rpy2/rlike\n",
      "  copying ./rpy/rlike/__init__.py -> build/lib.linux-x86_64-3.6/rpy2/rlike\n",
      "  copying ./rpy/rlike/functional.py -> build/lib.linux-x86_64-3.6/rpy2/rlike\n",
      "  copying ./rpy/rlike/indexing.py -> build/lib.linux-x86_64-3.6/rpy2/rlike\n",
      "  copying ./rpy/rlike/container.py -> build/lib.linux-x86_64-3.6/rpy2/rlike\n",
      "  creating build/lib.linux-x86_64-3.6/rpy2/rlike/tests\n",
      "  copying ./rpy/rlike/tests/__init__.py -> build/lib.linux-x86_64-3.6/rpy2/rlike/tests\n",
      "  copying ./rpy/rlike/tests/test_functional.py -> build/lib.linux-x86_64-3.6/rpy2/rlike/tests\n",
      "  copying ./rpy/rlike/tests/test_container.py -> build/lib.linux-x86_64-3.6/rpy2/rlike/tests\n",
      "  copying ./rpy/rlike/tests/test_indexing.py -> build/lib.linux-x86_64-3.6/rpy2/rlike/tests\n",
      "  creating build/lib.linux-x86_64-3.6/rpy2/rinterface\n",
      "  copying ./rpy/rinterface/__init__.py -> build/lib.linux-x86_64-3.6/rpy2/rinterface\n",
      "  creating build/lib.linux-x86_64-3.6/rpy2/rinterface/tests\n",
      "  copying ./rpy/rinterface/tests/__init__.py -> build/lib.linux-x86_64-3.6/rpy2/rinterface/tests\n",
      "  copying ./rpy/rinterface/tests/test_Sexp.py -> build/lib.linux-x86_64-3.6/rpy2/rinterface/tests\n",
      "  copying ./rpy/rinterface/tests/test_SexpClosure.py -> build/lib.linux-x86_64-3.6/rpy2/rinterface/tests\n",
      "  copying ./rpy/rinterface/tests/test_EmbeddedR.py -> build/lib.linux-x86_64-3.6/rpy2/rinterface/tests\n",
      "  copying ./rpy/rinterface/tests/test_SexpExtPtr.py -> build/lib.linux-x86_64-3.6/rpy2/rinterface/tests\n",
      "  copying ./rpy/rinterface/tests/test_SexpSymbol.py -> build/lib.linux-x86_64-3.6/rpy2/rinterface/tests\n",
      "  copying ./rpy/rinterface/tests/test_SexpVector.py -> build/lib.linux-x86_64-3.6/rpy2/rinterface/tests\n",
      "  copying ./rpy/rinterface/tests/test_SexpVectorNumeric.py -> build/lib.linux-x86_64-3.6/rpy2/rinterface/tests\n",
      "  copying ./rpy/rinterface/tests/test_SexpEnvironment.py -> build/lib.linux-x86_64-3.6/rpy2/rinterface/tests\n",
      "  copying ./rpy/rinterface/tests/test_Device.py -> build/lib.linux-x86_64-3.6/rpy2/rinterface/tests\n",
      "  creating build/lib.linux-x86_64-3.6/rpy2/robjects\n",
      "  copying ./rpy/robjects/numpy2ri.py -> build/lib.linux-x86_64-3.6/rpy2/robjects\n",
      "  copying ./rpy/robjects/methods.py -> build/lib.linux-x86_64-3.6/rpy2/robjects\n",
      "  copying ./rpy/robjects/__init__.py -> build/lib.linux-x86_64-3.6/rpy2/robjects\n",
      "  copying ./rpy/robjects/conversion.py -> build/lib.linux-x86_64-3.6/rpy2/robjects\n",
      "  copying ./rpy/robjects/vectors.py -> build/lib.linux-x86_64-3.6/rpy2/robjects\n",
      "  copying ./rpy/robjects/packages.py -> build/lib.linux-x86_64-3.6/rpy2/robjects\n",
      "  copying ./rpy/robjects/environments.py -> build/lib.linux-x86_64-3.6/rpy2/robjects\n",
      "  copying ./rpy/robjects/robject.py -> build/lib.linux-x86_64-3.6/rpy2/robjects\n",
      "  copying ./rpy/robjects/constants.py -> build/lib.linux-x86_64-3.6/rpy2/robjects\n",
      "  copying ./rpy/robjects/language.py -> build/lib.linux-x86_64-3.6/rpy2/robjects\n",
      "  copying ./rpy/robjects/functions.py -> build/lib.linux-x86_64-3.6/rpy2/robjects\n",
      "  copying ./rpy/robjects/help.py -> build/lib.linux-x86_64-3.6/rpy2/robjects\n",
      "  copying ./rpy/robjects/packages_utils.py -> build/lib.linux-x86_64-3.6/rpy2/robjects\n",
      "  copying ./rpy/robjects/pandas2ri.py -> build/lib.linux-x86_64-3.6/rpy2/robjects\n",
      "  creating build/lib.linux-x86_64-3.6/rpy2/robjects/tests\n",
      "  copying ./rpy/robjects/tests/testVector.py -> build/lib.linux-x86_64-3.6/rpy2/robjects/tests\n",
      "  copying ./rpy/robjects/tests/testNumpyConversions.py -> build/lib.linux-x86_64-3.6/rpy2/robjects/tests\n",
      "  copying ./rpy/robjects/tests/__init__.py -> build/lib.linux-x86_64-3.6/rpy2/robjects/tests\n",
      "  copying ./rpy/robjects/tests/testRObject.py -> build/lib.linux-x86_64-3.6/rpy2/robjects/tests\n",
      "  copying ./rpy/robjects/tests/testFunction.py -> build/lib.linux-x86_64-3.6/rpy2/robjects/tests\n",
      "  copying ./rpy/robjects/tests/testMethods.py -> build/lib.linux-x86_64-3.6/rpy2/robjects/tests\n",
      "  copying ./rpy/robjects/tests/testHelp.py -> build/lib.linux-x86_64-3.6/rpy2/robjects/tests\n",
      "  copying ./rpy/robjects/tests/testArray.py -> build/lib.linux-x86_64-3.6/rpy2/robjects/tests\n",
      "  copying ./rpy/robjects/tests/testPandasConversions.py -> build/lib.linux-x86_64-3.6/rpy2/robjects/tests\n",
      "  copying ./rpy/robjects/tests/testFormula.py -> build/lib.linux-x86_64-3.6/rpy2/robjects/tests\n",
      "  copying ./rpy/robjects/tests/testLanguage.py -> build/lib.linux-x86_64-3.6/rpy2/robjects/tests\n",
      "  copying ./rpy/robjects/tests/testRobjects.py -> build/lib.linux-x86_64-3.6/rpy2/robjects/tests\n",
      "  copying ./rpy/robjects/tests/testDataFrame.py -> build/lib.linux-x86_64-3.6/rpy2/robjects/tests\n",
      "  copying ./rpy/robjects/tests/testEnvironment.py -> build/lib.linux-x86_64-3.6/rpy2/robjects/tests\n",
      "  copying ./rpy/robjects/tests/testPackages.py -> build/lib.linux-x86_64-3.6/rpy2/robjects/tests\n",
      "  creating build/lib.linux-x86_64-3.6/rpy2/robjects/lib\n",
      "  copying ./rpy/robjects/lib/__init__.py -> build/lib.linux-x86_64-3.6/rpy2/robjects/lib\n",
      "  copying ./rpy/robjects/lib/grdevices.py -> build/lib.linux-x86_64-3.6/rpy2/robjects/lib\n",
      "  copying ./rpy/robjects/lib/dbplyr.py -> build/lib.linux-x86_64-3.6/rpy2/robjects/lib\n",
      "  copying ./rpy/robjects/lib/dplyr.py -> build/lib.linux-x86_64-3.6/rpy2/robjects/lib\n",
      "  copying ./rpy/robjects/lib/test_dplyr.py -> build/lib.linux-x86_64-3.6/rpy2/robjects/lib\n",
      "  copying ./rpy/robjects/lib/ggplot2.py -> build/lib.linux-x86_64-3.6/rpy2/robjects/lib\n",
      "  copying ./rpy/robjects/lib/grid.py -> build/lib.linux-x86_64-3.6/rpy2/robjects/lib\n",
      "  copying ./rpy/robjects/lib/tidyr.py -> build/lib.linux-x86_64-3.6/rpy2/robjects/lib\n",
      "  creating build/lib.linux-x86_64-3.6/rpy2/robjects/lib/tests\n",
      "  copying ./rpy/robjects/lib/tests/__init__.py -> build/lib.linux-x86_64-3.6/rpy2/robjects/lib/tests\n",
      "  copying ./rpy/robjects/lib/tests/test_dplyr.py -> build/lib.linux-x86_64-3.6/rpy2/robjects/lib/tests\n",
      "  copying ./rpy/robjects/lib/tests/test_grdevices.py -> build/lib.linux-x86_64-3.6/rpy2/robjects/lib/tests\n",
      "  copying ./rpy/robjects/lib/tests/test_ggplot2.py -> build/lib.linux-x86_64-3.6/rpy2/robjects/lib/tests\n",
      "  creating build/lib.linux-x86_64-3.6/rpy2/interactive\n",
      "  copying ./rpy/interactive/__init__.py -> build/lib.linux-x86_64-3.6/rpy2/interactive\n",
      "  copying ./rpy/interactive/packages.py -> build/lib.linux-x86_64-3.6/rpy2/interactive\n",
      "  copying ./rpy/interactive/process_revents.py -> build/lib.linux-x86_64-3.6/rpy2/interactive\n",
      "  creating build/lib.linux-x86_64-3.6/rpy2/interactive/tests\n",
      "  copying ./rpy/interactive/tests/__init__.py -> build/lib.linux-x86_64-3.6/rpy2/interactive/tests\n",
      "  creating build/lib.linux-x86_64-3.6/rpy2/ipython\n",
      "  copying ./rpy/ipython/__init__.py -> build/lib.linux-x86_64-3.6/rpy2/ipython\n",
      "  copying ./rpy/ipython/ggplot.py -> build/lib.linux-x86_64-3.6/rpy2/ipython\n",
      "  copying ./rpy/ipython/html.py -> build/lib.linux-x86_64-3.6/rpy2/ipython\n",
      "  copying ./rpy/ipython/rmagic.py -> build/lib.linux-x86_64-3.6/rpy2/ipython\n",
      "  creating build/lib.linux-x86_64-3.6/rpy2/ipython/tests\n",
      "  copying ./rpy/ipython/tests/__init__.py -> build/lib.linux-x86_64-3.6/rpy2/ipython/tests\n",
      "  copying ./rpy/ipython/tests/test_rmagic.py -> build/lib.linux-x86_64-3.6/rpy2/ipython/tests\n",
      "  running build_clib\n",
      "  building 'r_utils' library\n",
      "  creating build/temp.linux-x86_64-3.6\n",
      "  creating build/temp.linux-x86_64-3.6/rpy\n",
      "  creating build/temp.linux-x86_64-3.6/rpy/rinterface\n",
      "  gcc -pthread -Wno-unused-result -Wsign-compare -DNDEBUG -g -fwrapv -O3 -Wall -Wstrict-prototypes -fPIC -I./rpy/rinterface -I/miniconda/envs/ts-env/lib/R/include -c ./rpy/rinterface/r_utils.c -o build/temp.linux-x86_64-3.6/./rpy/rinterface/r_utils.o\n",
      "  In file included from /miniconda/envs/ts-env/lib/R/include/Rdefines.h:32:0,\n",
      "                   from ./rpy/rinterface/r_utils.c:24:\n",
      "  /miniconda/envs/ts-env/lib/R/include/R_ext/Memory.h:47:1: warning: function declaration isn’t a prototype [-Wstrict-prototypes]\n",
      "   int R_gc_running();\n",
      "   ^\n",
      "  In file included from /miniconda/envs/ts-env/lib/R/include/Rdefines.h:36:0,\n",
      "                   from ./rpy/rinterface/r_utils.c:24:\n",
      "  /miniconda/envs/ts-env/lib/R/include/Rinternals.h:882:1: warning: function declaration isn’t a prototype [-Wstrict-prototypes]\n",
      "   const char *R_curErrorBuf();\n",
      "   ^\n",
      "  ar rc build/temp.linux-x86_64-3.6/libr_utils.a build/temp.linux-x86_64-3.6/./rpy/rinterface/r_utils.o\n",
      "  running build_ext\n",
      "  R version 3.3.2 (2016-10-31) -- \"Sincere Pumpkin Patch\"\n",
      "  building 'rpy2.rinterface._rinterface' extension\n",
      "  gcc -pthread -Wno-unused-result -Wsign-compare -DNDEBUG -g -fwrapv -O3 -Wall -Wstrict-prototypes -fPIC -DR_INTERFACE_PTRS=1 -DHAVE_POSIX_SIGJMP=1 -DRIF_HAS_RSIGHAND=1 -DCSTACK_DEFNS=1 -DHAS_READLINE=1 -I./rpy/rinterface -I/miniconda/envs/ts-env/lib/R/include -I/miniconda/envs/ts-env/include/python3.6m -c ./rpy/rinterface/_rinterface.c -o build/temp.linux-x86_64-3.6/./rpy/rinterface/_rinterface.o\n",
      "  In file included from /miniconda/envs/ts-env/lib/R/include/R.h:76:0,\n",
      "                   from ./rpy/rinterface/_rinterface.h:8,\n",
      "                   from ./rpy/rinterface/_rinterface.c:52:\n",
      "  /miniconda/envs/ts-env/lib/R/include/R_ext/Memory.h:47:1: warning: function declaration isn’t a prototype [-Wstrict-prototypes]\n",
      "   int R_gc_running();\n",
      "   ^\n",
      "  In file included from ./rpy/rinterface/_rinterface.h:9:0,\n",
      "                   from ./rpy/rinterface/_rinterface.c:52:\n",
      "  /miniconda/envs/ts-env/lib/R/include/Rinternals.h:882:1: warning: function declaration isn’t a prototype [-Wstrict-prototypes]\n",
      "   const char *R_curErrorBuf();\n",
      "   ^\n",
      "  In file included from ./rpy/rinterface/_rinterface.c:64:0:\n",
      "  /miniconda/envs/ts-env/lib/R/include/Rinterface.h:146:1: warning: function declaration isn’t a prototype [-Wstrict-prototypes]\n",
      "   extern void (*ptr_R_ProcessEvents)();\n",
      "   ^\n",
      "  In file included from ./rpy/rinterface/_rinterface.c:73:0:\n",
      "  /miniconda/envs/ts-env/lib/R/include/R_ext/Rdynload.h:32:1: warning: function declaration isn’t a prototype [-Wstrict-prototypes]\n",
      "   typedef void * (*DL_FUNC)();\n",
      "   ^\n",
      "  ./rpy/rinterface/_rinterface.c:80:31: fatal error: readline/readline.h: No such file or directory\n",
      "   #include <readline/readline.h>\n",
      "                                 ^\n",
      "  compilation terminated.\n",
      "  error: command 'gcc' failed with exit status 1\n",
      "  \n",
      "  ----------------------------------------\n",
      "\u001b[31m  Failed building wheel for rpy2\u001b[0m\n",
      "\u001b[?25h  Running setup.py clean for rpy2\n"
     ]
    },
    {
     "name": "stdout",
     "output_type": "stream",
     "text": [
      "Failed to build rpy2\n",
      "Installing collected packages: rpy2\n",
      "  Running setup.py install for rpy2 ... \u001b[?25lerror\n",
      "    Complete output from command /miniconda/envs/ts-env/bin/python -u -c \"import setuptools, tokenize;__file__='/tmp/pip-build-rqzsuqvp/rpy2/setup.py';f=getattr(tokenize, 'open', open)(__file__);code=f.read().replace('\\r\\n', '\\n');f.close();exec(compile(code, __file__, 'exec'))\" install --record /tmp/pip-5n8j7x3d-record/install-record.txt --single-version-externally-managed --compile:\n",
      "    R version 3.3.2 (2016-10-31) -- \"Sincere Pumpkin Patch\"\n",
      "    /miniconda/envs/ts-env/lib/R/bin/R CMD config --ldflags\n",
      "    /miniconda/envs/ts-env/lib/R/bin/R CMD config --cppflags\n",
      "    \n",
      "        Compilation parameters for rpy2's C components:\n",
      "            include_dirs    = ['/miniconda/envs/ts-env/lib/R/include']\n",
      "            library_dirs    = ['/miniconda/envs/ts-env/lib/R/lib']\n",
      "            libraries       = ['R', 'pcre', 'lzma', 'bz2', 'z', 'rt', 'dl', 'm', 'iconv', 'icuuc', 'icui18n']\n",
      "            extra_link_args = ['-Wl,--export-dynamic', '-fopenmp']\n",
      "    \n",
      "    running install\n",
      "    running build\n",
      "    running build_py\n",
      "    creating build\n",
      "    creating build/lib.linux-x86_64-3.6\n",
      "    creating build/lib.linux-x86_64-3.6/rpy2\n",
      "    copying ./rpy/__init__.py -> build/lib.linux-x86_64-3.6/rpy2\n",
      "    copying ./rpy/rpy_classic.py -> build/lib.linux-x86_64-3.6/rpy2\n",
      "    copying ./rpy/tests.py -> build/lib.linux-x86_64-3.6/rpy2\n",
      "    copying ./rpy/tests_rpy_classic.py -> build/lib.linux-x86_64-3.6/rpy2\n",
      "    copying ./rpy/situation.py -> build/lib.linux-x86_64-3.6/rpy2\n",
      "    creating build/lib.linux-x86_64-3.6/rpy2/rlike\n",
      "    copying ./rpy/rlike/__init__.py -> build/lib.linux-x86_64-3.6/rpy2/rlike\n",
      "    copying ./rpy/rlike/functional.py -> build/lib.linux-x86_64-3.6/rpy2/rlike\n",
      "    copying ./rpy/rlike/indexing.py -> build/lib.linux-x86_64-3.6/rpy2/rlike\n",
      "    copying ./rpy/rlike/container.py -> build/lib.linux-x86_64-3.6/rpy2/rlike\n",
      "    creating build/lib.linux-x86_64-3.6/rpy2/rlike/tests\n",
      "    copying ./rpy/rlike/tests/__init__.py -> build/lib.linux-x86_64-3.6/rpy2/rlike/tests\n",
      "    copying ./rpy/rlike/tests/test_functional.py -> build/lib.linux-x86_64-3.6/rpy2/rlike/tests\n",
      "    copying ./rpy/rlike/tests/test_container.py -> build/lib.linux-x86_64-3.6/rpy2/rlike/tests\n",
      "    copying ./rpy/rlike/tests/test_indexing.py -> build/lib.linux-x86_64-3.6/rpy2/rlike/tests\n",
      "    creating build/lib.linux-x86_64-3.6/rpy2/rinterface\n",
      "    copying ./rpy/rinterface/__init__.py -> build/lib.linux-x86_64-3.6/rpy2/rinterface\n",
      "    creating build/lib.linux-x86_64-3.6/rpy2/rinterface/tests\n",
      "    copying ./rpy/rinterface/tests/__init__.py -> build/lib.linux-x86_64-3.6/rpy2/rinterface/tests\n",
      "    copying ./rpy/rinterface/tests/test_Sexp.py -> build/lib.linux-x86_64-3.6/rpy2/rinterface/tests\n",
      "    copying ./rpy/rinterface/tests/test_SexpClosure.py -> build/lib.linux-x86_64-3.6/rpy2/rinterface/tests\n",
      "    copying ./rpy/rinterface/tests/test_EmbeddedR.py -> build/lib.linux-x86_64-3.6/rpy2/rinterface/tests\n",
      "    copying ./rpy/rinterface/tests/test_SexpExtPtr.py -> build/lib.linux-x86_64-3.6/rpy2/rinterface/tests\n",
      "    copying ./rpy/rinterface/tests/test_SexpSymbol.py -> build/lib.linux-x86_64-3.6/rpy2/rinterface/tests\n",
      "    copying ./rpy/rinterface/tests/test_SexpVector.py -> build/lib.linux-x86_64-3.6/rpy2/rinterface/tests\n",
      "    copying ./rpy/rinterface/tests/test_SexpVectorNumeric.py -> build/lib.linux-x86_64-3.6/rpy2/rinterface/tests\n",
      "    copying ./rpy/rinterface/tests/test_SexpEnvironment.py -> build/lib.linux-x86_64-3.6/rpy2/rinterface/tests\n",
      "    copying ./rpy/rinterface/tests/test_Device.py -> build/lib.linux-x86_64-3.6/rpy2/rinterface/tests\n",
      "    creating build/lib.linux-x86_64-3.6/rpy2/robjects\n",
      "    copying ./rpy/robjects/numpy2ri.py -> build/lib.linux-x86_64-3.6/rpy2/robjects\n",
      "    copying ./rpy/robjects/methods.py -> build/lib.linux-x86_64-3.6/rpy2/robjects\n",
      "    copying ./rpy/robjects/__init__.py -> build/lib.linux-x86_64-3.6/rpy2/robjects\n",
      "    copying ./rpy/robjects/conversion.py -> build/lib.linux-x86_64-3.6/rpy2/robjects\n",
      "    copying ./rpy/robjects/vectors.py -> build/lib.linux-x86_64-3.6/rpy2/robjects\n",
      "    copying ./rpy/robjects/packages.py -> build/lib.linux-x86_64-3.6/rpy2/robjects\n",
      "    copying ./rpy/robjects/environments.py -> build/lib.linux-x86_64-3.6/rpy2/robjects\n",
      "    copying ./rpy/robjects/robject.py -> build/lib.linux-x86_64-3.6/rpy2/robjects\n",
      "    copying ./rpy/robjects/constants.py -> build/lib.linux-x86_64-3.6/rpy2/robjects\n",
      "    copying ./rpy/robjects/language.py -> build/lib.linux-x86_64-3.6/rpy2/robjects\n",
      "    copying ./rpy/robjects/functions.py -> build/lib.linux-x86_64-3.6/rpy2/robjects\n",
      "    copying ./rpy/robjects/help.py -> build/lib.linux-x86_64-3.6/rpy2/robjects\n",
      "    copying ./rpy/robjects/packages_utils.py -> build/lib.linux-x86_64-3.6/rpy2/robjects\n",
      "    copying ./rpy/robjects/pandas2ri.py -> build/lib.linux-x86_64-3.6/rpy2/robjects\n",
      "    creating build/lib.linux-x86_64-3.6/rpy2/robjects/tests\n",
      "    copying ./rpy/robjects/tests/testVector.py -> build/lib.linux-x86_64-3.6/rpy2/robjects/tests\n",
      "    copying ./rpy/robjects/tests/testNumpyConversions.py -> build/lib.linux-x86_64-3.6/rpy2/robjects/tests\n",
      "    copying ./rpy/robjects/tests/__init__.py -> build/lib.linux-x86_64-3.6/rpy2/robjects/tests\n",
      "    copying ./rpy/robjects/tests/testRObject.py -> build/lib.linux-x86_64-3.6/rpy2/robjects/tests\n",
      "    copying ./rpy/robjects/tests/testFunction.py -> build/lib.linux-x86_64-3.6/rpy2/robjects/tests\n",
      "    copying ./rpy/robjects/tests/testMethods.py -> build/lib.linux-x86_64-3.6/rpy2/robjects/tests\n",
      "    copying ./rpy/robjects/tests/testHelp.py -> build/lib.linux-x86_64-3.6/rpy2/robjects/tests\n",
      "    copying ./rpy/robjects/tests/testArray.py -> build/lib.linux-x86_64-3.6/rpy2/robjects/tests\n",
      "    copying ./rpy/robjects/tests/testPandasConversions.py -> build/lib.linux-x86_64-3.6/rpy2/robjects/tests\n",
      "    copying ./rpy/robjects/tests/testFormula.py -> build/lib.linux-x86_64-3.6/rpy2/robjects/tests\n",
      "    copying ./rpy/robjects/tests/testLanguage.py -> build/lib.linux-x86_64-3.6/rpy2/robjects/tests\n",
      "    copying ./rpy/robjects/tests/testRobjects.py -> build/lib.linux-x86_64-3.6/rpy2/robjects/tests\n",
      "    copying ./rpy/robjects/tests/testDataFrame.py -> build/lib.linux-x86_64-3.6/rpy2/robjects/tests\n",
      "    copying ./rpy/robjects/tests/testEnvironment.py -> build/lib.linux-x86_64-3.6/rpy2/robjects/tests\n",
      "    copying ./rpy/robjects/tests/testPackages.py -> build/lib.linux-x86_64-3.6/rpy2/robjects/tests\n",
      "    creating build/lib.linux-x86_64-3.6/rpy2/robjects/lib\n",
      "    copying ./rpy/robjects/lib/__init__.py -> build/lib.linux-x86_64-3.6/rpy2/robjects/lib\n",
      "    copying ./rpy/robjects/lib/grdevices.py -> build/lib.linux-x86_64-3.6/rpy2/robjects/lib\n",
      "    copying ./rpy/robjects/lib/dbplyr.py -> build/lib.linux-x86_64-3.6/rpy2/robjects/lib\n",
      "    copying ./rpy/robjects/lib/dplyr.py -> build/lib.linux-x86_64-3.6/rpy2/robjects/lib\n",
      "    copying ./rpy/robjects/lib/test_dplyr.py -> build/lib.linux-x86_64-3.6/rpy2/robjects/lib\n",
      "    copying ./rpy/robjects/lib/ggplot2.py -> build/lib.linux-x86_64-3.6/rpy2/robjects/lib\n",
      "    copying ./rpy/robjects/lib/grid.py -> build/lib.linux-x86_64-3.6/rpy2/robjects/lib\n",
      "    copying ./rpy/robjects/lib/tidyr.py -> build/lib.linux-x86_64-3.6/rpy2/robjects/lib\n",
      "    creating build/lib.linux-x86_64-3.6/rpy2/robjects/lib/tests\n",
      "    copying ./rpy/robjects/lib/tests/__init__.py -> build/lib.linux-x86_64-3.6/rpy2/robjects/lib/tests\n",
      "    copying ./rpy/robjects/lib/tests/test_dplyr.py -> build/lib.linux-x86_64-3.6/rpy2/robjects/lib/tests\n",
      "    copying ./rpy/robjects/lib/tests/test_grdevices.py -> build/lib.linux-x86_64-3.6/rpy2/robjects/lib/tests\n",
      "    copying ./rpy/robjects/lib/tests/test_ggplot2.py -> build/lib.linux-x86_64-3.6/rpy2/robjects/lib/tests\n",
      "    creating build/lib.linux-x86_64-3.6/rpy2/interactive\n",
      "    copying ./rpy/interactive/__init__.py -> build/lib.linux-x86_64-3.6/rpy2/interactive\n",
      "    copying ./rpy/interactive/packages.py -> build/lib.linux-x86_64-3.6/rpy2/interactive\n",
      "    copying ./rpy/interactive/process_revents.py -> build/lib.linux-x86_64-3.6/rpy2/interactive\n",
      "    creating build/lib.linux-x86_64-3.6/rpy2/interactive/tests\n",
      "    copying ./rpy/interactive/tests/__init__.py -> build/lib.linux-x86_64-3.6/rpy2/interactive/tests\n",
      "    creating build/lib.linux-x86_64-3.6/rpy2/ipython\n",
      "    copying ./rpy/ipython/__init__.py -> build/lib.linux-x86_64-3.6/rpy2/ipython\n",
      "    copying ./rpy/ipython/ggplot.py -> build/lib.linux-x86_64-3.6/rpy2/ipython\n",
      "    copying ./rpy/ipython/html.py -> build/lib.linux-x86_64-3.6/rpy2/ipython\n",
      "    copying ./rpy/ipython/rmagic.py -> build/lib.linux-x86_64-3.6/rpy2/ipython\n",
      "    creating build/lib.linux-x86_64-3.6/rpy2/ipython/tests\n",
      "    copying ./rpy/ipython/tests/__init__.py -> build/lib.linux-x86_64-3.6/rpy2/ipython/tests\n",
      "    copying ./rpy/ipython/tests/test_rmagic.py -> build/lib.linux-x86_64-3.6/rpy2/ipython/tests\n",
      "    running build_clib\n",
      "    building 'r_utils' library\n",
      "    creating build/temp.linux-x86_64-3.6\n",
      "    creating build/temp.linux-x86_64-3.6/rpy\n",
      "    creating build/temp.linux-x86_64-3.6/rpy/rinterface\n",
      "    gcc -pthread -Wno-unused-result -Wsign-compare -DNDEBUG -g -fwrapv -O3 -Wall -Wstrict-prototypes -fPIC -I./rpy/rinterface -I/miniconda/envs/ts-env/lib/R/include -c ./rpy/rinterface/r_utils.c -o build/temp.linux-x86_64-3.6/./rpy/rinterface/r_utils.o\n",
      "    In file included from /miniconda/envs/ts-env/lib/R/include/Rdefines.h:32:0,\n",
      "                     from ./rpy/rinterface/r_utils.c:24:\n",
      "    /miniconda/envs/ts-env/lib/R/include/R_ext/Memory.h:47:1: warning: function declaration isn’t a prototype [-Wstrict-prototypes]\n",
      "     int R_gc_running();\n",
      "     ^\n",
      "    In file included from /miniconda/envs/ts-env/lib/R/include/Rdefines.h:36:0,\n",
      "                     from ./rpy/rinterface/r_utils.c:24:\n",
      "    /miniconda/envs/ts-env/lib/R/include/Rinternals.h:882:1: warning: function declaration isn’t a prototype [-Wstrict-prototypes]\n",
      "     const char *R_curErrorBuf();\n",
      "     ^\n",
      "    ar rc build/temp.linux-x86_64-3.6/libr_utils.a build/temp.linux-x86_64-3.6/./rpy/rinterface/r_utils.o\n",
      "    running build_ext\n",
      "    R version 3.3.2 (2016-10-31) -- \"Sincere Pumpkin Patch\"\n",
      "    building 'rpy2.rinterface._rinterface' extension\n",
      "    gcc -pthread -Wno-unused-result -Wsign-compare -DNDEBUG -g -fwrapv -O3 -Wall -Wstrict-prototypes -fPIC -DR_INTERFACE_PTRS=1 -DHAVE_POSIX_SIGJMP=1 -DRIF_HAS_RSIGHAND=1 -DCSTACK_DEFNS=1 -DHAS_READLINE=1 -I./rpy/rinterface -I/miniconda/envs/ts-env/lib/R/include -I/miniconda/envs/ts-env/include/python3.6m -c ./rpy/rinterface/_rinterface.c -o build/temp.linux-x86_64-3.6/./rpy/rinterface/_rinterface.o\n",
      "    In file included from /miniconda/envs/ts-env/lib/R/include/R.h:76:0,\n",
      "                     from ./rpy/rinterface/_rinterface.h:8,\n",
      "                     from ./rpy/rinterface/_rinterface.c:52:\n",
      "    /miniconda/envs/ts-env/lib/R/include/R_ext/Memory.h:47:1: warning: function declaration isn’t a prototype [-Wstrict-prototypes]\n",
      "     int R_gc_running();\n",
      "     ^\n",
      "    In file included from ./rpy/rinterface/_rinterface.h:9:0,\n",
      "                     from ./rpy/rinterface/_rinterface.c:52:\n",
      "    /miniconda/envs/ts-env/lib/R/include/Rinternals.h:882:1: warning: function declaration isn’t a prototype [-Wstrict-prototypes]\n",
      "     const char *R_curErrorBuf();\n",
      "     ^\n",
      "    In file included from ./rpy/rinterface/_rinterface.c:64:0:\n",
      "    /miniconda/envs/ts-env/lib/R/include/Rinterface.h:146:1: warning: function declaration isn’t a prototype [-Wstrict-prototypes]\n",
      "     extern void (*ptr_R_ProcessEvents)();\n",
      "     ^\n",
      "    In file included from ./rpy/rinterface/_rinterface.c:73:0:\n",
      "    /miniconda/envs/ts-env/lib/R/include/R_ext/Rdynload.h:32:1: warning: function declaration isn’t a prototype [-Wstrict-prototypes]\n",
      "     typedef void * (*DL_FUNC)();\n",
      "     ^\n",
      "    ./rpy/rinterface/_rinterface.c:80:31: fatal error: readline/readline.h: No such file or directory\n",
      "     #include <readline/readline.h>\n",
      "                                   ^\n",
      "    compilation terminated.\n",
      "    error: command 'gcc' failed with exit status 1\n",
      "    \n",
      "    ----------------------------------------\n",
      "\u001b[31mCommand \"/miniconda/envs/ts-env/bin/python -u -c \"import setuptools, tokenize;__file__='/tmp/pip-build-rqzsuqvp/rpy2/setup.py';f=getattr(tokenize, 'open', open)(__file__);code=f.read().replace('\\r\\n', '\\n');f.close();exec(compile(code, __file__, 'exec'))\" install --record /tmp/pip-5n8j7x3d-record/install-record.txt --single-version-externally-managed --compile\" failed with error code 1 in /tmp/pip-build-rqzsuqvp/rpy2/\u001b[0m\n"
     ]
    },
    {
     "name": "stdout",
     "output_type": "stream",
     "text": [
      "\u001b[?25h"
     ]
    }
   ],
   "source": [
    "!conda install -c "
   ]
  },
  {
   "cell_type": "code",
   "execution_count": 7,
   "metadata": {
    "collapsed": true
   },
   "outputs": [],
   "source": [
    "df_predicted_tbats = run_in_R__tbats(y=y.copy(), fh=30)"
   ]
  },
  {
   "cell_type": "code",
   "execution_count": 8,
   "metadata": {
    "collapsed": true
   },
   "outputs": [],
   "source": [
    "df_predicted_aa = run_in_R__autoARIMA(y=y.copy(), fh=30)"
   ]
  },
  {
   "cell_type": "markdown",
   "metadata": {},
   "source": [
    "## Metrics"
   ]
  },
  {
   "cell_type": "code",
   "execution_count": 16,
   "metadata": {},
   "outputs": [
    {
     "data": {
      "text/plain": [
       "{'MAPE': 76.273809523809518, 'RMSE': 1.6367535150307506}"
      ]
     },
     "execution_count": 16,
     "metadata": {},
     "output_type": "execute_result"
    }
   ],
   "source": [
    "get_perf_metrics(df_predicted_aa)"
   ]
  },
  {
   "cell_type": "code",
   "execution_count": 12,
   "metadata": {},
   "outputs": [
    {
     "data": {
      "text/plain": [
       "{'MAPE': 57.396551724137929, 'RMSE': 1.7830050186557873}"
      ]
     },
     "execution_count": 12,
     "metadata": {},
     "output_type": "execute_result"
    }
   ],
   "source": [
    "get_perf_metrics(df_predicted_tbats)"
   ]
  },
  {
   "cell_type": "code",
   "execution_count": 13,
   "metadata": {
    "scrolled": true
   },
   "outputs": [
    {
     "data": {
      "text/plain": [
       "{'MAPE': 68.33292282430213, 'RMSE': 1.7821219432714626}"
      ]
     },
     "execution_count": 13,
     "metadata": {},
     "output_type": "execute_result"
    }
   ],
   "source": [
    "get_perf_metrics(df_predicted_ets)"
   ]
  },
  {
   "cell_type": "markdown",
   "metadata": {},
   "source": [
    "## Visualize"
   ]
  },
  {
   "cell_type": "code",
   "execution_count": 17,
   "metadata": {},
   "outputs": [
    {
     "data": {
      "image/png": "[encoded data removed]",
      "text/plain": [
       "<matplotlib.figure.Figure at 0x7ff29c691c90>"
      ]
     },
     "metadata": {},
     "output_type": "display_data"
    }
   ],
   "source": [
    "visualize_forecasts(y=y.copy(), df=df_predicted_ets, fh=30)"
   ]
  },
  {
   "cell_type": "code",
   "execution_count": null,
   "metadata": {
    "collapsed": true
   },
   "outputs": [],
   "source": []
  }
 ],
 "metadata": {
  "kernelspec": {
   "display_name": "Python 3",
   "language": "python",
   "name": "python3"
  },
  "language_info": {
   "codemirror_mode": {
    "name": "ipython",
    "version": 3
   },
   "file_extension": ".py",
   "mimetype": "text/x-python",
   "name": "python",
   "nbconvert_exporter": "python",
   "pygments_lexer": "ipython3",
   "version": "3.6.4"
  }
 },
 "nbformat": 4,
 "nbformat_minor": 2
}
